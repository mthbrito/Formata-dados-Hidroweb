{
  "nbformat": 4,
  "nbformat_minor": 0,
  "metadata": {
    "colab": {
      "provenance": [],
      "name": "formata-dados-pluviometricos-do-hidroweb.ipynb",
      "mount_file_id": "1yI77HVDBSx8noiu6q_cmmU0IwFIhpZGL",
      "authorship_tag": "ABX9TyODCIAYkaK20d6zxkPPnwYQ",
      "include_colab_link": true
    },
    "kernelspec": {
      "name": "python3",
      "display_name": "Python 3"
    },
    "language_info": {
      "name": "python"
    }
  },
  "cells": [
    {
      "cell_type": "markdown",
      "metadata": {
        "id": "view-in-github",
        "colab_type": "text"
      },
      "source": [
        "<a href=\"https://colab.research.google.com/github/mthbrito/Formata-dados-Hidroweb/blob/main/formata_dados_pluviometricos_do_hidroweb.ipynb\" target=\"_parent\"><img src=\"https://colab.research.google.com/assets/colab-badge.svg\" alt=\"Open In Colab\"/></a>"
      ]
    },
    {
      "cell_type": "markdown",
      "source": [
        "**Obs.: Esse código formata apenas os dados de CHUVA do Hidroweb**"
      ],
      "metadata": {
        "id": "4eJSTZd4LRz3"
      }
    },
    {
      "cell_type": "code",
      "source": [
        "from google.colab import drive\n",
        "drive.mount('/content/drive')"
      ],
      "metadata": {
        "colab": {
          "base_uri": "https://localhost:8080/"
        },
        "id": "5OvNpsYC1PwG",
        "outputId": "609ebd18-639d-42dc-8cbd-40fa609c102d"
      },
      "execution_count": null,
      "outputs": [
        {
          "output_type": "stream",
          "name": "stdout",
          "text": [
            "Mounted at /content/drive\n"
          ]
        }
      ]
    },
    {
      "cell_type": "code",
      "source": [
        "import pandas as pd\n",
        "import os\n",
        "local = '/content/drive/MyDrive/Dados Pluviométricos/Postos CSV'\n",
        "postos = os.listdir(local)\n",
        "print(postos)"
      ],
      "metadata": {
        "colab": {
          "base_uri": "https://localhost:8080/"
        },
        "id": "r0tBrjHZ39Xl",
        "outputId": "069cc2cb-5e09-4a16-fd1e-d13faebd79f5"
      },
      "execution_count": null,
      "outputs": [
        {
          "output_type": "stream",
          "name": "stdout",
          "text": [
            "['838002_Chuvas.csv', '737023_Chuvas.csv', '839019_Chuvas.csv', '840015_Chuvas.csv', '838031_Chuvas.csv', '838021_Chuvas.csv', '839009_Chuvas.csv', '737025_Chuvas.csv', '737026_Chuvas.csv', '737027_Chuvas.csv', '737029_Chuvas.csv', '737030_Chuvas.csv', '737031_Chuvas.csv', '737032_Chuvas.csv', '737033_Chuvas.csv', '737034_Chuvas.csv', '737036_Chuvas.csv', '737037_Chuvas.csv', '738027_Chuvas.csv', '738028_Chuvas.csv', '738029_Chuvas.csv', '738030_Chuvas.csv', '738035_Chuvas.csv', '738036_Chuvas.csv', '739021_Chuvas.csv', '739022_Chuvas.csv', '739023_Chuvas.csv', '739025_Chuvas.csv', '739027_Chuvas.csv', '739028_Chuvas.csv', '739029_Chuvas.csv', '739030_Chuvas.csv', '739031_Chuvas.csv', '739032_Chuvas.csv', '739034_Chuvas.csv', '740014_Chuvas.csv', '740015_Chuvas.csv', '740016_Chuvas.csv', '740017_Chuvas.csv', '740018_Chuvas.csv', '740019_Chuvas.csv', '740020_Chuvas.csv', '740021_Chuvas.csv', '740023_Chuvas.csv', '740024_Chuvas.csv', '740025_Chuvas.csv', '740029_Chuvas.csv', '837013_Chuvas.csv', '837035_Chuvas.csv', '837040_Chuvas.csv', '837052_Chuvas.csv', '838000_Chuvas.csv', '838001_Chuvas.csv', '838003_Chuvas.csv', '838004_Chuvas.csv', '838005_Chuvas.csv', '838007_Chuvas.csv', '838008_Chuvas.csv', '838009_Chuvas.csv', '838010_Chuvas.csv', '838013_Chuvas.csv', '838014_Chuvas.csv', '838015_Chuvas.csv', '838018_Chuvas.csv', '838019_Chuvas.csv', '838020_Chuvas.csv', '838024_Chuvas.csv', '838025_Chuvas.csv', '838036_Chuvas.csv', '839047_Chuvas.csv', '839033_Chuvas.csv', '839034_Chuvas.csv', '839001_Chuvas.csv', '839008_Chuvas.csv', '840016_Chuvas.csv', '839012_Chuvas.csv', '839013_Chuvas.csv', '839014_Chuvas.csv', '840005_Chuvas.csv', '840007_Chuvas.csv', '840008_Chuvas.csv', '840009_Chuvas.csv', '840014_Chuvas.csv', '840017_Chuvas.csv', '940031_Chuvas.csv', '940002_Chuvas.csv', '940003_Chuvas.csv', '940004_Chuvas.csv', '940006_Chuvas.csv', '840018_Chuvas.csv', '840020_Chuvas.csv', '840022_Chuvas.csv', '840023_Chuvas.csv', '940000_Chuvas.csv', '839016_Chuvas.csv', '838026_Chuvas.csv', '838028_Chuvas.csv', '840024_Chuvas.csv', '840002_Chuvas.csv', '840004_Chuvas.csv', '840006_Chuvas.csv', '840011_Chuvas.csv', '840019_Chuvas.csv', '840021_Chuvas.csv', '839000_Chuvas.csv', '839015_Chuvas.csv', '839018_Chuvas.csv', '839020_Chuvas.csv', '839023_Chuvas.csv', '840012_Chuvas.csv', '840013_Chuvas.csv', '940005_Chuvas.csv', '839035_Chuvas.csv', '840000_Chuvas.csv', '840003_Chuvas.csv', '840010_Chuvas.csv', '839021_Chuvas.csv']\n"
          ]
        }
      ]
    },
    {
      "cell_type": "code",
      "source": [
        "postos_pluviometricos = [local+'/'+i for i in postos]\n",
        "print(postos_pluviometricos)"
      ],
      "metadata": {
        "colab": {
          "base_uri": "https://localhost:8080/"
        },
        "id": "PlGQDfYPLrxF",
        "outputId": "d3c2a95c-0622-4a23-8eac-1cdc8d684210"
      },
      "execution_count": null,
      "outputs": [
        {
          "output_type": "stream",
          "name": "stdout",
          "text": [
            "['/content/drive/MyDrive/Dados Pluviométricos/Postos CSV/838002_Chuvas.csv', '/content/drive/MyDrive/Dados Pluviométricos/Postos CSV/737023_Chuvas.csv', '/content/drive/MyDrive/Dados Pluviométricos/Postos CSV/839019_Chuvas.csv', '/content/drive/MyDrive/Dados Pluviométricos/Postos CSV/840015_Chuvas.csv', '/content/drive/MyDrive/Dados Pluviométricos/Postos CSV/838031_Chuvas.csv', '/content/drive/MyDrive/Dados Pluviométricos/Postos CSV/838021_Chuvas.csv', '/content/drive/MyDrive/Dados Pluviométricos/Postos CSV/839009_Chuvas.csv', '/content/drive/MyDrive/Dados Pluviométricos/Postos CSV/737025_Chuvas.csv', '/content/drive/MyDrive/Dados Pluviométricos/Postos CSV/737026_Chuvas.csv', '/content/drive/MyDrive/Dados Pluviométricos/Postos CSV/737027_Chuvas.csv', '/content/drive/MyDrive/Dados Pluviométricos/Postos CSV/737029_Chuvas.csv', '/content/drive/MyDrive/Dados Pluviométricos/Postos CSV/737030_Chuvas.csv', '/content/drive/MyDrive/Dados Pluviométricos/Postos CSV/737031_Chuvas.csv', '/content/drive/MyDrive/Dados Pluviométricos/Postos CSV/737032_Chuvas.csv', '/content/drive/MyDrive/Dados Pluviométricos/Postos CSV/737033_Chuvas.csv', '/content/drive/MyDrive/Dados Pluviométricos/Postos CSV/737034_Chuvas.csv', '/content/drive/MyDrive/Dados Pluviométricos/Postos CSV/737036_Chuvas.csv', '/content/drive/MyDrive/Dados Pluviométricos/Postos CSV/737037_Chuvas.csv', '/content/drive/MyDrive/Dados Pluviométricos/Postos CSV/738027_Chuvas.csv', '/content/drive/MyDrive/Dados Pluviométricos/Postos CSV/738028_Chuvas.csv', '/content/drive/MyDrive/Dados Pluviométricos/Postos CSV/738029_Chuvas.csv', '/content/drive/MyDrive/Dados Pluviométricos/Postos CSV/738030_Chuvas.csv', '/content/drive/MyDrive/Dados Pluviométricos/Postos CSV/738035_Chuvas.csv', '/content/drive/MyDrive/Dados Pluviométricos/Postos CSV/738036_Chuvas.csv', '/content/drive/MyDrive/Dados Pluviométricos/Postos CSV/739021_Chuvas.csv', '/content/drive/MyDrive/Dados Pluviométricos/Postos CSV/739022_Chuvas.csv', '/content/drive/MyDrive/Dados Pluviométricos/Postos CSV/739023_Chuvas.csv', '/content/drive/MyDrive/Dados Pluviométricos/Postos CSV/739025_Chuvas.csv', '/content/drive/MyDrive/Dados Pluviométricos/Postos CSV/739027_Chuvas.csv', '/content/drive/MyDrive/Dados Pluviométricos/Postos CSV/739028_Chuvas.csv', '/content/drive/MyDrive/Dados Pluviométricos/Postos CSV/739029_Chuvas.csv', '/content/drive/MyDrive/Dados Pluviométricos/Postos CSV/739030_Chuvas.csv', '/content/drive/MyDrive/Dados Pluviométricos/Postos CSV/739031_Chuvas.csv', '/content/drive/MyDrive/Dados Pluviométricos/Postos CSV/739032_Chuvas.csv', '/content/drive/MyDrive/Dados Pluviométricos/Postos CSV/739034_Chuvas.csv', '/content/drive/MyDrive/Dados Pluviométricos/Postos CSV/740014_Chuvas.csv', '/content/drive/MyDrive/Dados Pluviométricos/Postos CSV/740015_Chuvas.csv', '/content/drive/MyDrive/Dados Pluviométricos/Postos CSV/740016_Chuvas.csv', '/content/drive/MyDrive/Dados Pluviométricos/Postos CSV/740017_Chuvas.csv', '/content/drive/MyDrive/Dados Pluviométricos/Postos CSV/740018_Chuvas.csv', '/content/drive/MyDrive/Dados Pluviométricos/Postos CSV/740019_Chuvas.csv', '/content/drive/MyDrive/Dados Pluviométricos/Postos CSV/740020_Chuvas.csv', '/content/drive/MyDrive/Dados Pluviométricos/Postos CSV/740021_Chuvas.csv', '/content/drive/MyDrive/Dados Pluviométricos/Postos CSV/740023_Chuvas.csv', '/content/drive/MyDrive/Dados Pluviométricos/Postos CSV/740024_Chuvas.csv', '/content/drive/MyDrive/Dados Pluviométricos/Postos CSV/740025_Chuvas.csv', '/content/drive/MyDrive/Dados Pluviométricos/Postos CSV/740029_Chuvas.csv', '/content/drive/MyDrive/Dados Pluviométricos/Postos CSV/837013_Chuvas.csv', '/content/drive/MyDrive/Dados Pluviométricos/Postos CSV/837035_Chuvas.csv', '/content/drive/MyDrive/Dados Pluviométricos/Postos CSV/837040_Chuvas.csv', '/content/drive/MyDrive/Dados Pluviométricos/Postos CSV/837052_Chuvas.csv', '/content/drive/MyDrive/Dados Pluviométricos/Postos CSV/838000_Chuvas.csv', '/content/drive/MyDrive/Dados Pluviométricos/Postos CSV/838001_Chuvas.csv', '/content/drive/MyDrive/Dados Pluviométricos/Postos CSV/838003_Chuvas.csv', '/content/drive/MyDrive/Dados Pluviométricos/Postos CSV/838004_Chuvas.csv', '/content/drive/MyDrive/Dados Pluviométricos/Postos CSV/838005_Chuvas.csv', '/content/drive/MyDrive/Dados Pluviométricos/Postos CSV/838007_Chuvas.csv', '/content/drive/MyDrive/Dados Pluviométricos/Postos CSV/838008_Chuvas.csv', '/content/drive/MyDrive/Dados Pluviométricos/Postos CSV/838009_Chuvas.csv', '/content/drive/MyDrive/Dados Pluviométricos/Postos CSV/838010_Chuvas.csv', '/content/drive/MyDrive/Dados Pluviométricos/Postos CSV/838013_Chuvas.csv', '/content/drive/MyDrive/Dados Pluviométricos/Postos CSV/838014_Chuvas.csv', '/content/drive/MyDrive/Dados Pluviométricos/Postos CSV/838015_Chuvas.csv', '/content/drive/MyDrive/Dados Pluviométricos/Postos CSV/838018_Chuvas.csv', '/content/drive/MyDrive/Dados Pluviométricos/Postos CSV/838019_Chuvas.csv', '/content/drive/MyDrive/Dados Pluviométricos/Postos CSV/838020_Chuvas.csv', '/content/drive/MyDrive/Dados Pluviométricos/Postos CSV/838024_Chuvas.csv', '/content/drive/MyDrive/Dados Pluviométricos/Postos CSV/838025_Chuvas.csv', '/content/drive/MyDrive/Dados Pluviométricos/Postos CSV/838036_Chuvas.csv', '/content/drive/MyDrive/Dados Pluviométricos/Postos CSV/839047_Chuvas.csv', '/content/drive/MyDrive/Dados Pluviométricos/Postos CSV/839033_Chuvas.csv', '/content/drive/MyDrive/Dados Pluviométricos/Postos CSV/839034_Chuvas.csv', '/content/drive/MyDrive/Dados Pluviométricos/Postos CSV/839001_Chuvas.csv', '/content/drive/MyDrive/Dados Pluviométricos/Postos CSV/839008_Chuvas.csv', '/content/drive/MyDrive/Dados Pluviométricos/Postos CSV/840016_Chuvas.csv', '/content/drive/MyDrive/Dados Pluviométricos/Postos CSV/839012_Chuvas.csv', '/content/drive/MyDrive/Dados Pluviométricos/Postos CSV/839013_Chuvas.csv', '/content/drive/MyDrive/Dados Pluviométricos/Postos CSV/839014_Chuvas.csv', '/content/drive/MyDrive/Dados Pluviométricos/Postos CSV/840005_Chuvas.csv', '/content/drive/MyDrive/Dados Pluviométricos/Postos CSV/840007_Chuvas.csv', '/content/drive/MyDrive/Dados Pluviométricos/Postos CSV/840008_Chuvas.csv', '/content/drive/MyDrive/Dados Pluviométricos/Postos CSV/840009_Chuvas.csv', '/content/drive/MyDrive/Dados Pluviométricos/Postos CSV/840014_Chuvas.csv', '/content/drive/MyDrive/Dados Pluviométricos/Postos CSV/840017_Chuvas.csv', '/content/drive/MyDrive/Dados Pluviométricos/Postos CSV/940031_Chuvas.csv', '/content/drive/MyDrive/Dados Pluviométricos/Postos CSV/940002_Chuvas.csv', '/content/drive/MyDrive/Dados Pluviométricos/Postos CSV/940003_Chuvas.csv', '/content/drive/MyDrive/Dados Pluviométricos/Postos CSV/940004_Chuvas.csv', '/content/drive/MyDrive/Dados Pluviométricos/Postos CSV/940006_Chuvas.csv', '/content/drive/MyDrive/Dados Pluviométricos/Postos CSV/840018_Chuvas.csv', '/content/drive/MyDrive/Dados Pluviométricos/Postos CSV/840020_Chuvas.csv', '/content/drive/MyDrive/Dados Pluviométricos/Postos CSV/840022_Chuvas.csv', '/content/drive/MyDrive/Dados Pluviométricos/Postos CSV/840023_Chuvas.csv', '/content/drive/MyDrive/Dados Pluviométricos/Postos CSV/940000_Chuvas.csv', '/content/drive/MyDrive/Dados Pluviométricos/Postos CSV/839016_Chuvas.csv', '/content/drive/MyDrive/Dados Pluviométricos/Postos CSV/838026_Chuvas.csv', '/content/drive/MyDrive/Dados Pluviométricos/Postos CSV/838028_Chuvas.csv', '/content/drive/MyDrive/Dados Pluviométricos/Postos CSV/840024_Chuvas.csv', '/content/drive/MyDrive/Dados Pluviométricos/Postos CSV/840002_Chuvas.csv', '/content/drive/MyDrive/Dados Pluviométricos/Postos CSV/840004_Chuvas.csv', '/content/drive/MyDrive/Dados Pluviométricos/Postos CSV/840006_Chuvas.csv', '/content/drive/MyDrive/Dados Pluviométricos/Postos CSV/840011_Chuvas.csv', '/content/drive/MyDrive/Dados Pluviométricos/Postos CSV/840019_Chuvas.csv', '/content/drive/MyDrive/Dados Pluviométricos/Postos CSV/840021_Chuvas.csv', '/content/drive/MyDrive/Dados Pluviométricos/Postos CSV/839000_Chuvas.csv', '/content/drive/MyDrive/Dados Pluviométricos/Postos CSV/839015_Chuvas.csv', '/content/drive/MyDrive/Dados Pluviométricos/Postos CSV/839018_Chuvas.csv', '/content/drive/MyDrive/Dados Pluviométricos/Postos CSV/839020_Chuvas.csv', '/content/drive/MyDrive/Dados Pluviométricos/Postos CSV/839023_Chuvas.csv', '/content/drive/MyDrive/Dados Pluviométricos/Postos CSV/840012_Chuvas.csv', '/content/drive/MyDrive/Dados Pluviométricos/Postos CSV/840013_Chuvas.csv', '/content/drive/MyDrive/Dados Pluviométricos/Postos CSV/940005_Chuvas.csv', '/content/drive/MyDrive/Dados Pluviométricos/Postos CSV/839035_Chuvas.csv', '/content/drive/MyDrive/Dados Pluviométricos/Postos CSV/840000_Chuvas.csv', '/content/drive/MyDrive/Dados Pluviométricos/Postos CSV/840003_Chuvas.csv', '/content/drive/MyDrive/Dados Pluviométricos/Postos CSV/840010_Chuvas.csv', '/content/drive/MyDrive/Dados Pluviométricos/Postos CSV/839021_Chuvas.csv']\n"
          ]
        }
      ]
    },
    {
      "cell_type": "code",
      "source": [
        "def le_dados(dado):\n",
        "    \"\"\"\"Lê os arquivos csv que estão com problemas na formatação\"\"\"\n",
        "    with open(dado, 'r', encoding='latin1') as arquivo:\n",
        "      conteudo = arquivo.read()\n",
        "    return conteudo\n",
        "\n",
        "def separa_dados(inicio, dado):\n",
        "    \"\"\"Separa o conteúdo desejado a partir do início da palavra desejada\"\"\"\n",
        "    conteudo = []\n",
        "    for i in dado[dado.find(inicio):].split(sep='\\n'):\n",
        "      conteudo.append(i.split(sep=';'))\n",
        "    return conteudo\n",
        "\n",
        "def zipa_dados(dado):\n",
        "  \"\"\"Zipa todas as listas aninhadas\"\"\"\n",
        "  from itertools import zip_longest\n",
        "  return list(zip_longest(*dado))\n",
        "\n",
        "def dados2df(dado):\n",
        "  \"\"\"Converte os dados para dicionário e em seguida para dataframe do Pandas\"\"\"\n",
        "  dados = {i[0]:i[1:] for i in dado}\n",
        "  df = pd.DataFrame(dados)\n",
        "  return df\n",
        "\n",
        "def seleciona_colunas(dado):\n",
        "  \"\"\"Seleciona as colunas de interesse do dataframe\"\"\"\n",
        "  from itertools import chain\n",
        "  colunas = list(chain(['EstacaoCodigo','Data'],['Chuva'+str(i).rjust(2,'0') for i in range(1,32)]))\n",
        "  return dado[colunas]\n",
        "\n",
        "def converte_dados(dado):\n",
        "  \"\"\"Converte as strings presentes no dataframe em floats e datas\"\"\"\n",
        "  from datetime import date\n",
        "  dado = dado.applymap(lambda x: x.replace(',', '.').replace('\"','') if x != None else '')\n",
        "  dado.iloc[:,2:] = dado.iloc[:,2:].applymap(lambda x:float(x) if x != '' else None)\n",
        "  return dado\n",
        "\n",
        "def organiza_dados(dado):\n",
        "  \"\"\"Organiza os dados gerados, concatenando-os e formatando-os\"\"\"\n",
        "  from functools import reduce\n",
        "  dfs = []\n",
        "  for index, row in dado.iterrows():\n",
        "    if row[1] != None:\n",
        "      df = pd.DataFrame({'data':[f'{i}/{row[1][3:]}' for i in range(1,32)],'mm':list(row[2:])})\n",
        "    dfs.append(df)\n",
        "  df_concat = reduce(lambda left, right: pd.concat([left,right]),dfs)\n",
        "\n",
        "  from datetime import date\n",
        "  datas = []\n",
        "  for index, row in df_concat.iterrows():\n",
        "    data = row[0].split(sep='/')\n",
        "    if len(data) == 3:\n",
        "      try:\n",
        "        datas.append(date(int(data[2]),int(data[1]),int(data[0])))\n",
        "      except:\n",
        "        datas.append(None)\n",
        "    else:\n",
        "      datas.append(None)\n",
        "  df_concat['data'] = datas\n",
        "\n",
        "  df_sorted = df_concat.sort_values(by='data').reset_index()\n",
        "  df = df_sorted[df_sorted['data'].notnull()]\n",
        "  df = df[['data','mm']]\n",
        "  return df\n",
        "\n",
        "def formata_dados(dado):\n",
        "  \"\"\"Realiza a formatacão dos dados de chuva do Hidroweb, retornando um dataframe organizado\"\"\"\n",
        "  resultado = organiza_dados(converte_dados(seleciona_colunas(dados2df(zipa_dados(separa_dados('EstacaoCodigo',le_dados(dado)))))))\n",
        "  return resultado"
      ],
      "metadata": {
        "id": "w2MVd-4C1XHt"
      },
      "execution_count": null,
      "outputs": []
    },
    {
      "cell_type": "code",
      "source": [
        "resultado = formata_dados(postos_pluviometricos[100])\n",
        "resultado.head(5)"
      ],
      "metadata": {
        "colab": {
          "base_uri": "https://localhost:8080/",
          "height": 206
        },
        "id": "-mCPXLFGIjEI",
        "outputId": "3860db08-52c0-45a6-f46a-dd707a71d698"
      },
      "execution_count": null,
      "outputs": [
        {
          "output_type": "execute_result",
          "data": {
            "text/plain": [
              "         data   mm\n",
              "0  1962-09-01  0.0\n",
              "1  1962-09-02  0.0\n",
              "2  1962-09-03  0.0\n",
              "3  1962-09-04  0.0\n",
              "4  1962-09-05  0.0"
            ],
            "text/html": [
              "\n",
              "  <div id=\"df-2a31cd13-31bc-405e-a44b-a0c50f474765\" class=\"colab-df-container\">\n",
              "    <div>\n",
              "<style scoped>\n",
              "    .dataframe tbody tr th:only-of-type {\n",
              "        vertical-align: middle;\n",
              "    }\n",
              "\n",
              "    .dataframe tbody tr th {\n",
              "        vertical-align: top;\n",
              "    }\n",
              "\n",
              "    .dataframe thead th {\n",
              "        text-align: right;\n",
              "    }\n",
              "</style>\n",
              "<table border=\"1\" class=\"dataframe\">\n",
              "  <thead>\n",
              "    <tr style=\"text-align: right;\">\n",
              "      <th></th>\n",
              "      <th>data</th>\n",
              "      <th>mm</th>\n",
              "    </tr>\n",
              "  </thead>\n",
              "  <tbody>\n",
              "    <tr>\n",
              "      <th>0</th>\n",
              "      <td>1962-09-01</td>\n",
              "      <td>0.0</td>\n",
              "    </tr>\n",
              "    <tr>\n",
              "      <th>1</th>\n",
              "      <td>1962-09-02</td>\n",
              "      <td>0.0</td>\n",
              "    </tr>\n",
              "    <tr>\n",
              "      <th>2</th>\n",
              "      <td>1962-09-03</td>\n",
              "      <td>0.0</td>\n",
              "    </tr>\n",
              "    <tr>\n",
              "      <th>3</th>\n",
              "      <td>1962-09-04</td>\n",
              "      <td>0.0</td>\n",
              "    </tr>\n",
              "    <tr>\n",
              "      <th>4</th>\n",
              "      <td>1962-09-05</td>\n",
              "      <td>0.0</td>\n",
              "    </tr>\n",
              "  </tbody>\n",
              "</table>\n",
              "</div>\n",
              "    <div class=\"colab-df-buttons\">\n",
              "\n",
              "  <div class=\"colab-df-container\">\n",
              "    <button class=\"colab-df-convert\" onclick=\"convertToInteractive('df-2a31cd13-31bc-405e-a44b-a0c50f474765')\"\n",
              "            title=\"Convert this dataframe to an interactive table.\"\n",
              "            style=\"display:none;\">\n",
              "\n",
              "  <svg xmlns=\"http://www.w3.org/2000/svg\" height=\"24px\" viewBox=\"0 -960 960 960\">\n",
              "    <path d=\"M120-120v-720h720v720H120Zm60-500h600v-160H180v160Zm220 220h160v-160H400v160Zm0 220h160v-160H400v160ZM180-400h160v-160H180v160Zm440 0h160v-160H620v160ZM180-180h160v-160H180v160Zm440 0h160v-160H620v160Z\"/>\n",
              "  </svg>\n",
              "    </button>\n",
              "\n",
              "  <style>\n",
              "    .colab-df-container {\n",
              "      display:flex;\n",
              "      gap: 12px;\n",
              "    }\n",
              "\n",
              "    .colab-df-convert {\n",
              "      background-color: #E8F0FE;\n",
              "      border: none;\n",
              "      border-radius: 50%;\n",
              "      cursor: pointer;\n",
              "      display: none;\n",
              "      fill: #1967D2;\n",
              "      height: 32px;\n",
              "      padding: 0 0 0 0;\n",
              "      width: 32px;\n",
              "    }\n",
              "\n",
              "    .colab-df-convert:hover {\n",
              "      background-color: #E2EBFA;\n",
              "      box-shadow: 0px 1px 2px rgba(60, 64, 67, 0.3), 0px 1px 3px 1px rgba(60, 64, 67, 0.15);\n",
              "      fill: #174EA6;\n",
              "    }\n",
              "\n",
              "    .colab-df-buttons div {\n",
              "      margin-bottom: 4px;\n",
              "    }\n",
              "\n",
              "    [theme=dark] .colab-df-convert {\n",
              "      background-color: #3B4455;\n",
              "      fill: #D2E3FC;\n",
              "    }\n",
              "\n",
              "    [theme=dark] .colab-df-convert:hover {\n",
              "      background-color: #434B5C;\n",
              "      box-shadow: 0px 1px 3px 1px rgba(0, 0, 0, 0.15);\n",
              "      filter: drop-shadow(0px 1px 2px rgba(0, 0, 0, 0.3));\n",
              "      fill: #FFFFFF;\n",
              "    }\n",
              "  </style>\n",
              "\n",
              "    <script>\n",
              "      const buttonEl =\n",
              "        document.querySelector('#df-2a31cd13-31bc-405e-a44b-a0c50f474765 button.colab-df-convert');\n",
              "      buttonEl.style.display =\n",
              "        google.colab.kernel.accessAllowed ? 'block' : 'none';\n",
              "\n",
              "      async function convertToInteractive(key) {\n",
              "        const element = document.querySelector('#df-2a31cd13-31bc-405e-a44b-a0c50f474765');\n",
              "        const dataTable =\n",
              "          await google.colab.kernel.invokeFunction('convertToInteractive',\n",
              "                                                    [key], {});\n",
              "        if (!dataTable) return;\n",
              "\n",
              "        const docLinkHtml = 'Like what you see? Visit the ' +\n",
              "          '<a target=\"_blank\" href=https://colab.research.google.com/notebooks/data_table.ipynb>data table notebook</a>'\n",
              "          + ' to learn more about interactive tables.';\n",
              "        element.innerHTML = '';\n",
              "        dataTable['output_type'] = 'display_data';\n",
              "        await google.colab.output.renderOutput(dataTable, element);\n",
              "        const docLink = document.createElement('div');\n",
              "        docLink.innerHTML = docLinkHtml;\n",
              "        element.appendChild(docLink);\n",
              "      }\n",
              "    </script>\n",
              "  </div>\n",
              "\n",
              "\n",
              "<div id=\"df-7c1bbbfa-d9de-4ddf-b717-46e9b442fc4c\">\n",
              "  <button class=\"colab-df-quickchart\" onclick=\"quickchart('df-7c1bbbfa-d9de-4ddf-b717-46e9b442fc4c')\"\n",
              "            title=\"Suggest charts\"\n",
              "            style=\"display:none;\">\n",
              "\n",
              "<svg xmlns=\"http://www.w3.org/2000/svg\" height=\"24px\"viewBox=\"0 0 24 24\"\n",
              "     width=\"24px\">\n",
              "    <g>\n",
              "        <path d=\"M19 3H5c-1.1 0-2 .9-2 2v14c0 1.1.9 2 2 2h14c1.1 0 2-.9 2-2V5c0-1.1-.9-2-2-2zM9 17H7v-7h2v7zm4 0h-2V7h2v10zm4 0h-2v-4h2v4z\"/>\n",
              "    </g>\n",
              "</svg>\n",
              "  </button>\n",
              "\n",
              "<style>\n",
              "  .colab-df-quickchart {\n",
              "      --bg-color: #E8F0FE;\n",
              "      --fill-color: #1967D2;\n",
              "      --hover-bg-color: #E2EBFA;\n",
              "      --hover-fill-color: #174EA6;\n",
              "      --disabled-fill-color: #AAA;\n",
              "      --disabled-bg-color: #DDD;\n",
              "  }\n",
              "\n",
              "  [theme=dark] .colab-df-quickchart {\n",
              "      --bg-color: #3B4455;\n",
              "      --fill-color: #D2E3FC;\n",
              "      --hover-bg-color: #434B5C;\n",
              "      --hover-fill-color: #FFFFFF;\n",
              "      --disabled-bg-color: #3B4455;\n",
              "      --disabled-fill-color: #666;\n",
              "  }\n",
              "\n",
              "  .colab-df-quickchart {\n",
              "    background-color: var(--bg-color);\n",
              "    border: none;\n",
              "    border-radius: 50%;\n",
              "    cursor: pointer;\n",
              "    display: none;\n",
              "    fill: var(--fill-color);\n",
              "    height: 32px;\n",
              "    padding: 0;\n",
              "    width: 32px;\n",
              "  }\n",
              "\n",
              "  .colab-df-quickchart:hover {\n",
              "    background-color: var(--hover-bg-color);\n",
              "    box-shadow: 0 1px 2px rgba(60, 64, 67, 0.3), 0 1px 3px 1px rgba(60, 64, 67, 0.15);\n",
              "    fill: var(--button-hover-fill-color);\n",
              "  }\n",
              "\n",
              "  .colab-df-quickchart-complete:disabled,\n",
              "  .colab-df-quickchart-complete:disabled:hover {\n",
              "    background-color: var(--disabled-bg-color);\n",
              "    fill: var(--disabled-fill-color);\n",
              "    box-shadow: none;\n",
              "  }\n",
              "\n",
              "  .colab-df-spinner {\n",
              "    border: 2px solid var(--fill-color);\n",
              "    border-color: transparent;\n",
              "    border-bottom-color: var(--fill-color);\n",
              "    animation:\n",
              "      spin 1s steps(1) infinite;\n",
              "  }\n",
              "\n",
              "  @keyframes spin {\n",
              "    0% {\n",
              "      border-color: transparent;\n",
              "      border-bottom-color: var(--fill-color);\n",
              "      border-left-color: var(--fill-color);\n",
              "    }\n",
              "    20% {\n",
              "      border-color: transparent;\n",
              "      border-left-color: var(--fill-color);\n",
              "      border-top-color: var(--fill-color);\n",
              "    }\n",
              "    30% {\n",
              "      border-color: transparent;\n",
              "      border-left-color: var(--fill-color);\n",
              "      border-top-color: var(--fill-color);\n",
              "      border-right-color: var(--fill-color);\n",
              "    }\n",
              "    40% {\n",
              "      border-color: transparent;\n",
              "      border-right-color: var(--fill-color);\n",
              "      border-top-color: var(--fill-color);\n",
              "    }\n",
              "    60% {\n",
              "      border-color: transparent;\n",
              "      border-right-color: var(--fill-color);\n",
              "    }\n",
              "    80% {\n",
              "      border-color: transparent;\n",
              "      border-right-color: var(--fill-color);\n",
              "      border-bottom-color: var(--fill-color);\n",
              "    }\n",
              "    90% {\n",
              "      border-color: transparent;\n",
              "      border-bottom-color: var(--fill-color);\n",
              "    }\n",
              "  }\n",
              "</style>\n",
              "\n",
              "  <script>\n",
              "    async function quickchart(key) {\n",
              "      const quickchartButtonEl =\n",
              "        document.querySelector('#' + key + ' button');\n",
              "      quickchartButtonEl.disabled = true;  // To prevent multiple clicks.\n",
              "      quickchartButtonEl.classList.add('colab-df-spinner');\n",
              "      try {\n",
              "        const charts = await google.colab.kernel.invokeFunction(\n",
              "            'suggestCharts', [key], {});\n",
              "      } catch (error) {\n",
              "        console.error('Error during call to suggestCharts:', error);\n",
              "      }\n",
              "      quickchartButtonEl.classList.remove('colab-df-spinner');\n",
              "      quickchartButtonEl.classList.add('colab-df-quickchart-complete');\n",
              "    }\n",
              "    (() => {\n",
              "      let quickchartButtonEl =\n",
              "        document.querySelector('#df-7c1bbbfa-d9de-4ddf-b717-46e9b442fc4c button');\n",
              "      quickchartButtonEl.style.display =\n",
              "        google.colab.kernel.accessAllowed ? 'block' : 'none';\n",
              "    })();\n",
              "  </script>\n",
              "</div>\n",
              "\n",
              "    </div>\n",
              "  </div>\n"
            ],
            "application/vnd.google.colaboratory.intrinsic+json": {
              "type": "dataframe",
              "variable_name": "resultado",
              "summary": "{\n  \"name\": \"resultado\",\n  \"rows\": 10223,\n  \"fields\": [\n    {\n      \"column\": \"data\",\n      \"properties\": {\n        \"dtype\": \"date\",\n        \"min\": \"1962-09-01\",\n        \"max\": \"1991-04-30\",\n        \"num_unique_values\": 10223,\n        \"samples\": [\n          \"1970-07-23\",\n          \"1975-01-10\",\n          \"1983-12-20\"\n        ],\n        \"semantic_type\": \"\",\n        \"description\": \"\"\n      }\n    },\n    {\n      \"column\": \"mm\",\n      \"properties\": {\n        \"dtype\": \"number\",\n        \"std\": 7.165513604836811,\n        \"min\": 0.0,\n        \"max\": 128.6,\n        \"num_unique_values\": 327,\n        \"samples\": [\n          20.1,\n          2.9,\n          52.4\n        ],\n        \"semantic_type\": \"\",\n        \"description\": \"\"\n      }\n    }\n  ]\n}"
            }
          },
          "metadata": {},
          "execution_count": 5
        }
      ]
    },
    {
      "cell_type": "code",
      "source": [
        "%%time\n",
        "\n",
        "import re\n",
        "from tqdm import tqdm\n",
        "nomes_arquivos = [re.findall(r'\\d+(?=_)', i)[0] for i in postos if i.endswith('_Chuvas.csv')]\n",
        "\n",
        "for i in tqdm(range(len(postos))):\n",
        "    try:\n",
        "        # Tentar formatar os dados do posto pluviométrico\n",
        "        resultado = formata_dados(postos_pluviometricos[i])\n",
        "        out = '/content/drive/MyDrive/Dados Pluviométricos/Postos CSV formatados/'+nomes_arquivos[i]+'.csv'\n",
        "        if os.path.exists(out):\n",
        "          print(f'Arquivo{nomes_arquivos[i]} já existe!')\n",
        "        else:\n",
        "          resultado.to_csv(out)\n",
        "          print(f'Arquivo {nomes_arquivos[i]}.csv foi salvo.')\n",
        "    except Exception as e:\n",
        "        # Se ocorrer um erro, imprimir uma mensagem de erro\n",
        "        print(f'Erro no arquivo {i}: {e}')\n",
        "        if os.path.exists(out):\n",
        "          print(f'Arquivo {nomes_arquivos[i]} já existe!')"
      ],
      "metadata": {
        "colab": {
          "base_uri": "https://localhost:8080/"
        },
        "id": "FgUbuTLOFWZ2",
        "outputId": "bf4c4c12-8b0d-4b0b-e67a-7961021d1635"
      },
      "execution_count": null,
      "outputs": [
        {
          "output_type": "stream",
          "name": "stderr",
          "text": [
            "  1%|          | 1/117 [00:05<10:17,  5.32s/it]"
          ]
        },
        {
          "output_type": "stream",
          "name": "stdout",
          "text": [
            "Arquivo838002 já existe!\n"
          ]
        },
        {
          "output_type": "stream",
          "name": "stderr",
          "text": [
            "\r  2%|▏         | 2/117 [00:14<14:02,  7.32s/it]"
          ]
        },
        {
          "output_type": "stream",
          "name": "stdout",
          "text": [
            "Arquivo737023 já existe!\n"
          ]
        },
        {
          "output_type": "stream",
          "name": "stderr",
          "text": [
            "\r  3%|▎         | 3/117 [00:17<10:38,  5.60s/it]"
          ]
        },
        {
          "output_type": "stream",
          "name": "stdout",
          "text": [
            "Arquivo839019 já existe!\n"
          ]
        },
        {
          "output_type": "stream",
          "name": "stderr",
          "text": [
            "\r  3%|▎         | 4/117 [00:23<10:43,  5.69s/it]"
          ]
        },
        {
          "output_type": "stream",
          "name": "stdout",
          "text": [
            "Arquivo840015 já existe!\n"
          ]
        },
        {
          "output_type": "stream",
          "name": "stderr",
          "text": [
            "\r  4%|▍         | 5/117 [00:26<08:42,  4.67s/it]"
          ]
        },
        {
          "output_type": "stream",
          "name": "stdout",
          "text": [
            "Arquivo838031 já existe!\n"
          ]
        },
        {
          "output_type": "stream",
          "name": "stderr",
          "text": [
            "\r  5%|▌         | 6/117 [00:28<07:20,  3.97s/it]"
          ]
        },
        {
          "output_type": "stream",
          "name": "stdout",
          "text": [
            "Arquivo838021 já existe!\n"
          ]
        },
        {
          "output_type": "stream",
          "name": "stderr",
          "text": [
            "\r  6%|▌         | 7/117 [00:35<08:55,  4.87s/it]"
          ]
        },
        {
          "output_type": "stream",
          "name": "stdout",
          "text": [
            "Arquivo839009 já existe!\n"
          ]
        },
        {
          "output_type": "stream",
          "name": "stderr",
          "text": [
            "\r  7%|▋         | 8/117 [00:36<06:48,  3.75s/it]"
          ]
        },
        {
          "output_type": "stream",
          "name": "stdout",
          "text": [
            "Arquivo737025 já existe!\n"
          ]
        },
        {
          "output_type": "stream",
          "name": "stderr",
          "text": [
            "\r  8%|▊         | 9/117 [00:38<05:29,  3.05s/it]"
          ]
        },
        {
          "output_type": "stream",
          "name": "stdout",
          "text": [
            "Arquivo737026 já existe!\n"
          ]
        },
        {
          "output_type": "stream",
          "name": "stderr",
          "text": [
            "\r  9%|▊         | 10/117 [00:46<08:02,  4.51s/it]"
          ]
        },
        {
          "output_type": "stream",
          "name": "stdout",
          "text": [
            "Arquivo737027 já existe!\n"
          ]
        },
        {
          "output_type": "stream",
          "name": "stderr",
          "text": [
            "\r  9%|▉         | 11/117 [00:46<05:46,  3.27s/it]"
          ]
        },
        {
          "output_type": "stream",
          "name": "stdout",
          "text": [
            "Arquivo737029 já existe!\n"
          ]
        },
        {
          "output_type": "stream",
          "name": "stderr",
          "text": [
            "\r 10%|█         | 12/117 [00:47<04:31,  2.59s/it]"
          ]
        },
        {
          "output_type": "stream",
          "name": "stdout",
          "text": [
            "Arquivo737030 já existe!\n"
          ]
        },
        {
          "output_type": "stream",
          "name": "stderr",
          "text": [
            "\r 11%|█         | 13/117 [00:48<03:35,  2.08s/it]"
          ]
        },
        {
          "output_type": "stream",
          "name": "stdout",
          "text": [
            "Arquivo737031 já existe!\n"
          ]
        },
        {
          "output_type": "stream",
          "name": "stderr",
          "text": [
            "\r 12%|█▏        | 14/117 [00:50<03:29,  2.03s/it]"
          ]
        },
        {
          "output_type": "stream",
          "name": "stdout",
          "text": [
            "Arquivo737032 já existe!\n"
          ]
        },
        {
          "output_type": "stream",
          "name": "stderr",
          "text": [
            "\r 13%|█▎        | 15/117 [00:52<03:12,  1.88s/it]"
          ]
        },
        {
          "output_type": "stream",
          "name": "stdout",
          "text": [
            "Arquivo737033 já existe!\n"
          ]
        },
        {
          "output_type": "stream",
          "name": "stderr",
          "text": [
            "\r 14%|█▎        | 16/117 [00:53<02:56,  1.75s/it]"
          ]
        },
        {
          "output_type": "stream",
          "name": "stdout",
          "text": [
            "Arquivo737034 já existe!\n"
          ]
        },
        {
          "output_type": "stream",
          "name": "stderr",
          "text": [
            "\r 15%|█▍        | 17/117 [00:56<03:19,  1.99s/it]"
          ]
        },
        {
          "output_type": "stream",
          "name": "stdout",
          "text": [
            "Arquivo737036 já existe!\n"
          ]
        },
        {
          "output_type": "stream",
          "name": "stderr",
          "text": [
            "\r 15%|█▌        | 18/117 [00:56<02:39,  1.61s/it]"
          ]
        },
        {
          "output_type": "stream",
          "name": "stdout",
          "text": [
            "Arquivo737037 já existe!\n"
          ]
        },
        {
          "output_type": "stream",
          "name": "stderr",
          "text": [
            "\r 16%|█▌        | 19/117 [00:57<02:18,  1.41s/it]"
          ]
        },
        {
          "output_type": "stream",
          "name": "stdout",
          "text": [
            "Arquivo738027 já existe!\n"
          ]
        },
        {
          "output_type": "stream",
          "name": "stderr",
          "text": [
            "\r 17%|█▋        | 20/117 [00:58<01:58,  1.22s/it]"
          ]
        },
        {
          "output_type": "stream",
          "name": "stdout",
          "text": [
            "Arquivo738028 já existe!\n"
          ]
        },
        {
          "output_type": "stream",
          "name": "stderr",
          "text": [
            "\r 18%|█▊        | 21/117 [01:01<02:38,  1.65s/it]"
          ]
        },
        {
          "output_type": "stream",
          "name": "stdout",
          "text": [
            "Arquivo738029 já existe!\n"
          ]
        },
        {
          "output_type": "stream",
          "name": "stderr",
          "text": [
            "\r 19%|█▉        | 22/117 [01:04<03:10,  2.01s/it]"
          ]
        },
        {
          "output_type": "stream",
          "name": "stdout",
          "text": [
            "Arquivo738030 já existe!\n"
          ]
        },
        {
          "output_type": "stream",
          "name": "stderr",
          "text": [
            "\r 20%|█▉        | 23/117 [01:04<02:34,  1.64s/it]"
          ]
        },
        {
          "output_type": "stream",
          "name": "stdout",
          "text": [
            "Arquivo738035 já existe!\n"
          ]
        },
        {
          "output_type": "stream",
          "name": "stderr",
          "text": [
            "\r 21%|██        | 24/117 [01:06<02:28,  1.60s/it]"
          ]
        },
        {
          "output_type": "stream",
          "name": "stdout",
          "text": [
            "Arquivo738036 já existe!\n"
          ]
        },
        {
          "output_type": "stream",
          "name": "stderr",
          "text": [
            "\r 21%|██▏       | 25/117 [01:07<02:21,  1.54s/it]"
          ]
        },
        {
          "output_type": "stream",
          "name": "stdout",
          "text": [
            "Arquivo739021 já existe!\n"
          ]
        },
        {
          "output_type": "stream",
          "name": "stderr",
          "text": [
            "\r 22%|██▏       | 26/117 [01:08<02:04,  1.36s/it]"
          ]
        },
        {
          "output_type": "stream",
          "name": "stdout",
          "text": [
            "Arquivo739022 já existe!\n"
          ]
        },
        {
          "output_type": "stream",
          "name": "stderr",
          "text": [
            "\r 23%|██▎       | 27/117 [01:10<02:16,  1.52s/it]"
          ]
        },
        {
          "output_type": "stream",
          "name": "stdout",
          "text": [
            "Arquivo739023 já existe!\n"
          ]
        },
        {
          "output_type": "stream",
          "name": "stderr",
          "text": [
            "\r 24%|██▍       | 28/117 [01:11<01:56,  1.31s/it]"
          ]
        },
        {
          "output_type": "stream",
          "name": "stdout",
          "text": [
            "Arquivo739025 já existe!\n"
          ]
        },
        {
          "output_type": "stream",
          "name": "stderr",
          "text": [
            "\r 25%|██▍       | 29/117 [01:12<01:42,  1.16s/it]"
          ]
        },
        {
          "output_type": "stream",
          "name": "stdout",
          "text": [
            "Arquivo739027 já existe!\n"
          ]
        },
        {
          "output_type": "stream",
          "name": "stderr",
          "text": [
            "\r 26%|██▌       | 30/117 [01:14<01:59,  1.37s/it]"
          ]
        },
        {
          "output_type": "stream",
          "name": "stdout",
          "text": [
            "Arquivo739028 já existe!\n"
          ]
        },
        {
          "output_type": "stream",
          "name": "stderr",
          "text": [
            "\r 26%|██▋       | 31/117 [01:15<02:09,  1.50s/it]"
          ]
        },
        {
          "output_type": "stream",
          "name": "stdout",
          "text": [
            "Arquivo739029 já existe!\n"
          ]
        },
        {
          "output_type": "stream",
          "name": "stderr",
          "text": [
            "\r 27%|██▋       | 32/117 [01:16<01:53,  1.33s/it]"
          ]
        },
        {
          "output_type": "stream",
          "name": "stdout",
          "text": [
            "Arquivo739030 já existe!\n"
          ]
        },
        {
          "output_type": "stream",
          "name": "stderr",
          "text": [
            "\r 28%|██▊       | 33/117 [01:17<01:48,  1.29s/it]"
          ]
        },
        {
          "output_type": "stream",
          "name": "stdout",
          "text": [
            "Arquivo739031 já existe!\n"
          ]
        },
        {
          "output_type": "stream",
          "name": "stderr",
          "text": [
            "\r 29%|██▉       | 34/117 [01:19<01:51,  1.34s/it]"
          ]
        },
        {
          "output_type": "stream",
          "name": "stdout",
          "text": [
            "Arquivo739032 já existe!\n"
          ]
        },
        {
          "output_type": "stream",
          "name": "stderr",
          "text": [
            "\r 30%|██▉       | 35/117 [01:20<01:40,  1.23s/it]"
          ]
        },
        {
          "output_type": "stream",
          "name": "stdout",
          "text": [
            "Arquivo739034 já existe!\n",
            "Arquivo740014 já existe!\n"
          ]
        },
        {
          "output_type": "stream",
          "name": "stderr",
          "text": [
            "\r 32%|███▏      | 37/117 [01:21<01:21,  1.02s/it]"
          ]
        },
        {
          "output_type": "stream",
          "name": "stdout",
          "text": [
            "Arquivo740015 já existe!\n"
          ]
        },
        {
          "output_type": "stream",
          "name": "stderr",
          "text": [
            "\r 32%|███▏      | 38/117 [01:23<01:36,  1.22s/it]"
          ]
        },
        {
          "output_type": "stream",
          "name": "stdout",
          "text": [
            "Arquivo740016 já existe!\n"
          ]
        },
        {
          "output_type": "stream",
          "name": "stderr",
          "text": [
            "\r 33%|███▎      | 39/117 [01:25<01:45,  1.36s/it]"
          ]
        },
        {
          "output_type": "stream",
          "name": "stdout",
          "text": [
            "Arquivo740017 já existe!\n"
          ]
        },
        {
          "output_type": "stream",
          "name": "stderr",
          "text": [
            "\r 34%|███▍      | 40/117 [01:26<01:33,  1.21s/it]"
          ]
        },
        {
          "output_type": "stream",
          "name": "stdout",
          "text": [
            "Arquivo740018 já existe!\n"
          ]
        },
        {
          "output_type": "stream",
          "name": "stderr",
          "text": [
            "\r 35%|███▌      | 41/117 [01:27<01:26,  1.14s/it]"
          ]
        },
        {
          "output_type": "stream",
          "name": "stdout",
          "text": [
            "Arquivo740019 já existe!\n"
          ]
        },
        {
          "output_type": "stream",
          "name": "stderr",
          "text": [
            "\r 36%|███▌      | 42/117 [01:28<01:22,  1.10s/it]"
          ]
        },
        {
          "output_type": "stream",
          "name": "stdout",
          "text": [
            "Arquivo740020 já existe!\n"
          ]
        },
        {
          "output_type": "stream",
          "name": "stderr",
          "text": [
            "\r 37%|███▋      | 43/117 [01:30<01:47,  1.46s/it]"
          ]
        },
        {
          "output_type": "stream",
          "name": "stdout",
          "text": [
            "Arquivo740021 já existe!\n"
          ]
        },
        {
          "output_type": "stream",
          "name": "stderr",
          "text": [
            "\r 38%|███▊      | 44/117 [01:31<01:35,  1.31s/it]"
          ]
        },
        {
          "output_type": "stream",
          "name": "stdout",
          "text": [
            "Arquivo740023 já existe!\n"
          ]
        },
        {
          "output_type": "stream",
          "name": "stderr",
          "text": [
            "\r 38%|███▊      | 45/117 [01:32<01:30,  1.26s/it]"
          ]
        },
        {
          "output_type": "stream",
          "name": "stdout",
          "text": [
            "Arquivo740024 já existe!\n"
          ]
        },
        {
          "output_type": "stream",
          "name": "stderr",
          "text": [
            "\r 39%|███▉      | 46/117 [01:34<01:30,  1.27s/it]"
          ]
        },
        {
          "output_type": "stream",
          "name": "stdout",
          "text": [
            "Arquivo740025 já existe!\n"
          ]
        },
        {
          "output_type": "stream",
          "name": "stderr",
          "text": [
            "\r 40%|████      | 47/117 [01:34<01:12,  1.03s/it]"
          ]
        },
        {
          "output_type": "stream",
          "name": "stdout",
          "text": [
            "Arquivo740029 já existe!\n"
          ]
        },
        {
          "output_type": "stream",
          "name": "stderr",
          "text": [
            "\r 41%|████      | 48/117 [01:35<01:19,  1.16s/it]"
          ]
        },
        {
          "output_type": "stream",
          "name": "stdout",
          "text": [
            "Arquivo837013 já existe!\n"
          ]
        },
        {
          "output_type": "stream",
          "name": "stderr",
          "text": [
            "\r 42%|████▏     | 49/117 [01:36<01:14,  1.10s/it]"
          ]
        },
        {
          "output_type": "stream",
          "name": "stdout",
          "text": [
            "Arquivo837035 já existe!\n"
          ]
        },
        {
          "output_type": "stream",
          "name": "stderr",
          "text": [
            "\r 43%|████▎     | 50/117 [01:37<01:11,  1.07s/it]"
          ]
        },
        {
          "output_type": "stream",
          "name": "stdout",
          "text": [
            "Arquivo837040 já existe!\n",
            "Arquivo837052 já existe!\n"
          ]
        },
        {
          "output_type": "stream",
          "name": "stderr",
          "text": [
            "\r 44%|████▍     | 52/117 [01:43<02:03,  1.90s/it]"
          ]
        },
        {
          "output_type": "stream",
          "name": "stdout",
          "text": [
            "Arquivo838000 já existe!\n"
          ]
        },
        {
          "output_type": "stream",
          "name": "stderr",
          "text": [
            "\r 45%|████▌     | 53/117 [01:44<01:47,  1.68s/it]"
          ]
        },
        {
          "output_type": "stream",
          "name": "stdout",
          "text": [
            "Arquivo838001 já existe!\n"
          ]
        },
        {
          "output_type": "stream",
          "name": "stderr",
          "text": [
            "\r 46%|████▌     | 54/117 [01:47<01:57,  1.86s/it]"
          ]
        },
        {
          "output_type": "stream",
          "name": "stdout",
          "text": [
            "Arquivo838003 já existe!\n"
          ]
        },
        {
          "output_type": "stream",
          "name": "stderr",
          "text": [
            "\r 47%|████▋     | 55/117 [01:52<03:00,  2.91s/it]"
          ]
        },
        {
          "output_type": "stream",
          "name": "stdout",
          "text": [
            "Arquivo838004 já existe!\n"
          ]
        },
        {
          "output_type": "stream",
          "name": "stderr",
          "text": [
            "\r 48%|████▊     | 56/117 [01:54<02:40,  2.63s/it]"
          ]
        },
        {
          "output_type": "stream",
          "name": "stdout",
          "text": [
            "Arquivo838005 já existe!\n"
          ]
        },
        {
          "output_type": "stream",
          "name": "stderr",
          "text": [
            "\r 49%|████▊     | 57/117 [01:55<02:09,  2.15s/it]"
          ]
        },
        {
          "output_type": "stream",
          "name": "stdout",
          "text": [
            "Arquivo838007 já existe!\n"
          ]
        },
        {
          "output_type": "stream",
          "name": "stderr",
          "text": [
            "\r 50%|████▉     | 58/117 [01:56<01:45,  1.79s/it]"
          ]
        },
        {
          "output_type": "stream",
          "name": "stdout",
          "text": [
            "Arquivo838008 já existe!\n"
          ]
        },
        {
          "output_type": "stream",
          "name": "stderr",
          "text": [
            "\r 50%|█████     | 59/117 [01:58<01:43,  1.79s/it]"
          ]
        },
        {
          "output_type": "stream",
          "name": "stdout",
          "text": [
            "Arquivo838009 já existe!\n"
          ]
        },
        {
          "output_type": "stream",
          "name": "stderr",
          "text": [
            "\r 51%|█████▏    | 60/117 [01:58<01:22,  1.45s/it]"
          ]
        },
        {
          "output_type": "stream",
          "name": "stdout",
          "text": [
            "Arquivo838010 já existe!\n"
          ]
        },
        {
          "output_type": "stream",
          "name": "stderr",
          "text": [
            "\r 52%|█████▏    | 61/117 [02:00<01:26,  1.55s/it]"
          ]
        },
        {
          "output_type": "stream",
          "name": "stdout",
          "text": [
            "Arquivo838013 já existe!\n"
          ]
        },
        {
          "output_type": "stream",
          "name": "stderr",
          "text": [
            "\r 53%|█████▎    | 62/117 [02:01<01:17,  1.41s/it]"
          ]
        },
        {
          "output_type": "stream",
          "name": "stdout",
          "text": [
            "Arquivo838014 já existe!\n"
          ]
        },
        {
          "output_type": "stream",
          "name": "stderr",
          "text": [
            "\r 54%|█████▍    | 63/117 [02:03<01:19,  1.47s/it]"
          ]
        },
        {
          "output_type": "stream",
          "name": "stdout",
          "text": [
            "Arquivo838015 já existe!\n"
          ]
        },
        {
          "output_type": "stream",
          "name": "stderr",
          "text": [
            "\r 55%|█████▍    | 64/117 [02:04<01:11,  1.35s/it]"
          ]
        },
        {
          "output_type": "stream",
          "name": "stdout",
          "text": [
            "Arquivo838018 já existe!\n"
          ]
        },
        {
          "output_type": "stream",
          "name": "stderr",
          "text": [
            "\r 56%|█████▌    | 65/117 [02:05<01:00,  1.17s/it]"
          ]
        },
        {
          "output_type": "stream",
          "name": "stdout",
          "text": [
            "Arquivo838019 já existe!\n"
          ]
        },
        {
          "output_type": "stream",
          "name": "stderr",
          "text": [
            "\r 56%|█████▋    | 66/117 [02:06<01:06,  1.31s/it]"
          ]
        },
        {
          "output_type": "stream",
          "name": "stdout",
          "text": [
            "Arquivo838020 já existe!\n"
          ]
        },
        {
          "output_type": "stream",
          "name": "stderr",
          "text": [
            "\r 57%|█████▋    | 67/117 [02:07<00:55,  1.11s/it]"
          ]
        },
        {
          "output_type": "stream",
          "name": "stdout",
          "text": [
            "Arquivo838024 já existe!\n"
          ]
        },
        {
          "output_type": "stream",
          "name": "stderr",
          "text": [
            "\r 58%|█████▊    | 68/117 [02:08<00:54,  1.10s/it]"
          ]
        },
        {
          "output_type": "stream",
          "name": "stdout",
          "text": [
            "Arquivo838025 já existe!\n",
            "Arquivo838036 já existe!\n"
          ]
        },
        {
          "output_type": "stream",
          "name": "stderr",
          "text": [
            " 61%|██████    | 71/117 [02:08<00:23,  1.96it/s]"
          ]
        },
        {
          "output_type": "stream",
          "name": "stdout",
          "text": [
            "Arquivo839047 já existe!\n",
            "Arquivo839033 já existe!\n"
          ]
        },
        {
          "output_type": "stream",
          "name": "stderr",
          "text": [
            "\r 62%|██████▏   | 72/117 [02:11<00:46,  1.03s/it]"
          ]
        },
        {
          "output_type": "stream",
          "name": "stdout",
          "text": [
            "Arquivo839034 já existe!\n"
          ]
        },
        {
          "output_type": "stream",
          "name": "stderr",
          "text": [
            "\r 62%|██████▏   | 73/117 [02:12<00:45,  1.04s/it]"
          ]
        },
        {
          "output_type": "stream",
          "name": "stdout",
          "text": [
            "Arquivo839001 já existe!\n"
          ]
        },
        {
          "output_type": "stream",
          "name": "stderr",
          "text": [
            "\r 63%|██████▎   | 74/117 [02:13<00:44,  1.03s/it]"
          ]
        },
        {
          "output_type": "stream",
          "name": "stdout",
          "text": [
            "Arquivo839008 já existe!\n"
          ]
        },
        {
          "output_type": "stream",
          "name": "stderr",
          "text": [
            "\r 64%|██████▍   | 75/117 [02:15<00:49,  1.18s/it]"
          ]
        },
        {
          "output_type": "stream",
          "name": "stdout",
          "text": [
            "Arquivo840016 já existe!\n"
          ]
        },
        {
          "output_type": "stream",
          "name": "stderr",
          "text": [
            "\r 65%|██████▍   | 76/117 [02:18<01:12,  1.77s/it]"
          ]
        },
        {
          "output_type": "stream",
          "name": "stdout",
          "text": [
            "Arquivo839012 já existe!\n"
          ]
        },
        {
          "output_type": "stream",
          "name": "stderr",
          "text": [
            "\r 66%|██████▌   | 77/117 [02:20<01:14,  1.86s/it]"
          ]
        },
        {
          "output_type": "stream",
          "name": "stdout",
          "text": [
            "Arquivo839013 já existe!\n"
          ]
        },
        {
          "output_type": "stream",
          "name": "stderr",
          "text": [
            "\r 67%|██████▋   | 78/117 [02:24<01:33,  2.40s/it]"
          ]
        },
        {
          "output_type": "stream",
          "name": "stdout",
          "text": [
            "Arquivo839014 já existe!\n"
          ]
        },
        {
          "output_type": "stream",
          "name": "stderr",
          "text": [
            "\r 68%|██████▊   | 79/117 [02:24<01:08,  1.80s/it]"
          ]
        },
        {
          "output_type": "stream",
          "name": "stdout",
          "text": [
            "Arquivo840005 já existe!\n"
          ]
        },
        {
          "output_type": "stream",
          "name": "stderr",
          "text": [
            "\r 68%|██████▊   | 80/117 [02:25<00:57,  1.55s/it]"
          ]
        },
        {
          "output_type": "stream",
          "name": "stdout",
          "text": [
            "Arquivo840007 já existe!\n"
          ]
        },
        {
          "output_type": "stream",
          "name": "stderr",
          "text": [
            "\r 69%|██████▉   | 81/117 [02:26<00:48,  1.35s/it]"
          ]
        },
        {
          "output_type": "stream",
          "name": "stdout",
          "text": [
            "Arquivo840008 já existe!\n"
          ]
        },
        {
          "output_type": "stream",
          "name": "stderr",
          "text": [
            "\r 70%|███████   | 82/117 [02:27<00:42,  1.22s/it]"
          ]
        },
        {
          "output_type": "stream",
          "name": "stdout",
          "text": [
            "Arquivo840009 já existe!\n"
          ]
        },
        {
          "output_type": "stream",
          "name": "stderr",
          "text": [
            "\r 71%|███████   | 83/117 [02:28<00:42,  1.25s/it]"
          ]
        },
        {
          "output_type": "stream",
          "name": "stdout",
          "text": [
            "Arquivo840014 já existe!\n"
          ]
        },
        {
          "output_type": "stream",
          "name": "stderr",
          "text": [
            "\r 72%|███████▏  | 84/117 [02:31<00:57,  1.75s/it]"
          ]
        },
        {
          "output_type": "stream",
          "name": "stdout",
          "text": [
            "Arquivo840017 já existe!\n"
          ]
        },
        {
          "output_type": "stream",
          "name": "stderr",
          "text": [
            "\r 73%|███████▎  | 85/117 [02:31<00:43,  1.36s/it]"
          ]
        },
        {
          "output_type": "stream",
          "name": "stdout",
          "text": [
            "Arquivo940031 já existe!\n"
          ]
        },
        {
          "output_type": "stream",
          "name": "stderr",
          "text": [
            "\r 74%|███████▎  | 86/117 [02:32<00:39,  1.27s/it]"
          ]
        },
        {
          "output_type": "stream",
          "name": "stdout",
          "text": [
            "Arquivo940002 já existe!\n"
          ]
        },
        {
          "output_type": "stream",
          "name": "stderr",
          "text": [
            "\r 74%|███████▍  | 87/117 [02:33<00:34,  1.14s/it]"
          ]
        },
        {
          "output_type": "stream",
          "name": "stdout",
          "text": [
            "Arquivo940003 já existe!\n"
          ]
        },
        {
          "output_type": "stream",
          "name": "stderr",
          "text": [
            "\r 75%|███████▌  | 88/117 [02:34<00:28,  1.03it/s]"
          ]
        },
        {
          "output_type": "stream",
          "name": "stdout",
          "text": [
            "Arquivo940004 já existe!\n"
          ]
        },
        {
          "output_type": "stream",
          "name": "stderr",
          "text": [
            "\r 76%|███████▌  | 89/117 [02:36<00:39,  1.42s/it]"
          ]
        },
        {
          "output_type": "stream",
          "name": "stdout",
          "text": [
            "Arquivo940006 já existe!\n"
          ]
        },
        {
          "output_type": "stream",
          "name": "stderr",
          "text": [
            "\r 77%|███████▋  | 90/117 [02:37<00:33,  1.25s/it]"
          ]
        },
        {
          "output_type": "stream",
          "name": "stdout",
          "text": [
            "Arquivo840018 já existe!\n"
          ]
        },
        {
          "output_type": "stream",
          "name": "stderr",
          "text": [
            "\r 78%|███████▊  | 91/117 [02:38<00:26,  1.00s/it]"
          ]
        },
        {
          "output_type": "stream",
          "name": "stdout",
          "text": [
            "Arquivo840020 já existe!\n"
          ]
        },
        {
          "output_type": "stream",
          "name": "stderr",
          "text": [
            "\r 79%|███████▊  | 92/117 [02:39<00:24,  1.00it/s]"
          ]
        },
        {
          "output_type": "stream",
          "name": "stdout",
          "text": [
            "Arquivo840022 já existe!\n"
          ]
        },
        {
          "output_type": "stream",
          "name": "stderr",
          "text": [
            "\r 79%|███████▉  | 93/117 [02:40<00:23,  1.02it/s]"
          ]
        },
        {
          "output_type": "stream",
          "name": "stdout",
          "text": [
            "Arquivo840023 já existe!\n"
          ]
        },
        {
          "output_type": "stream",
          "name": "stderr",
          "text": [
            "\r 80%|████████  | 94/117 [02:40<00:19,  1.19it/s]"
          ]
        },
        {
          "output_type": "stream",
          "name": "stdout",
          "text": [
            "Arquivo940000 já existe!\n"
          ]
        },
        {
          "output_type": "stream",
          "name": "stderr",
          "text": [
            "\r 81%|████████  | 95/117 [02:44<00:36,  1.64s/it]"
          ]
        },
        {
          "output_type": "stream",
          "name": "stdout",
          "text": [
            "Arquivo839016 já existe!\n"
          ]
        },
        {
          "output_type": "stream",
          "name": "stderr",
          "text": [
            "\r 82%|████████▏ | 96/117 [02:45<00:33,  1.62s/it]"
          ]
        },
        {
          "output_type": "stream",
          "name": "stdout",
          "text": [
            "Arquivo838026 já existe!\n"
          ]
        },
        {
          "output_type": "stream",
          "name": "stderr",
          "text": [
            "\r 83%|████████▎ | 97/117 [02:46<00:28,  1.44s/it]"
          ]
        },
        {
          "output_type": "stream",
          "name": "stdout",
          "text": [
            "Arquivo838028 já existe!\n"
          ]
        },
        {
          "output_type": "stream",
          "name": "stderr",
          "text": [
            "\r 84%|████████▍ | 98/117 [02:47<00:24,  1.29s/it]"
          ]
        },
        {
          "output_type": "stream",
          "name": "stdout",
          "text": [
            "Arquivo840024 já existe!\n"
          ]
        },
        {
          "output_type": "stream",
          "name": "stderr",
          "text": [
            "\r 85%|████████▍ | 99/117 [02:48<00:21,  1.20s/it]"
          ]
        },
        {
          "output_type": "stream",
          "name": "stdout",
          "text": [
            "Arquivo840002 já existe!\n"
          ]
        },
        {
          "output_type": "stream",
          "name": "stderr",
          "text": [
            "\r 85%|████████▌ | 100/117 [02:49<00:19,  1.15s/it]"
          ]
        },
        {
          "output_type": "stream",
          "name": "stdout",
          "text": [
            "Arquivo840004 já existe!\n"
          ]
        },
        {
          "output_type": "stream",
          "name": "stderr",
          "text": [
            "\r 86%|████████▋ | 101/117 [02:50<00:17,  1.08s/it]"
          ]
        },
        {
          "output_type": "stream",
          "name": "stdout",
          "text": [
            "Arquivo840006 já existe!\n"
          ]
        },
        {
          "output_type": "stream",
          "name": "stderr",
          "text": [
            "\r 87%|████████▋ | 102/117 [02:51<00:14,  1.01it/s]"
          ]
        },
        {
          "output_type": "stream",
          "name": "stdout",
          "text": [
            "Arquivo840011 já existe!\n"
          ]
        },
        {
          "output_type": "stream",
          "name": "stderr",
          "text": [
            "\r 88%|████████▊ | 103/117 [02:53<00:17,  1.25s/it]"
          ]
        },
        {
          "output_type": "stream",
          "name": "stdout",
          "text": [
            "Arquivo840019 já existe!\n"
          ]
        },
        {
          "output_type": "stream",
          "name": "stderr",
          "text": [
            "\r 89%|████████▉ | 104/117 [02:55<00:18,  1.45s/it]"
          ]
        },
        {
          "output_type": "stream",
          "name": "stdout",
          "text": [
            "Arquivo840021 já existe!\n"
          ]
        },
        {
          "output_type": "stream",
          "name": "stderr",
          "text": [
            "\r 90%|████████▉ | 105/117 [02:55<00:15,  1.27s/it]"
          ]
        },
        {
          "output_type": "stream",
          "name": "stdout",
          "text": [
            "Arquivo839000 já existe!\n"
          ]
        },
        {
          "output_type": "stream",
          "name": "stderr",
          "text": [
            "\r 91%|█████████ | 106/117 [02:57<00:13,  1.25s/it]"
          ]
        },
        {
          "output_type": "stream",
          "name": "stdout",
          "text": [
            "Arquivo839015 já existe!\n"
          ]
        },
        {
          "output_type": "stream",
          "name": "stderr",
          "text": [
            "\r 91%|█████████▏| 107/117 [03:00<00:17,  1.76s/it]"
          ]
        },
        {
          "output_type": "stream",
          "name": "stdout",
          "text": [
            "Arquivo839018 já existe!\n",
            "Arquivo839020 já existe!\n"
          ]
        },
        {
          "output_type": "stream",
          "name": "stderr",
          "text": [
            "\r 93%|█████████▎| 109/117 [03:01<00:09,  1.20s/it]"
          ]
        },
        {
          "output_type": "stream",
          "name": "stdout",
          "text": [
            "Arquivo839023 já existe!\n"
          ]
        },
        {
          "output_type": "stream",
          "name": "stderr",
          "text": [
            "\r 94%|█████████▍| 110/117 [03:02<00:09,  1.33s/it]"
          ]
        },
        {
          "output_type": "stream",
          "name": "stdout",
          "text": [
            "Arquivo840012 já existe!\n",
            "Arquivo840013 já existe!\n"
          ]
        },
        {
          "output_type": "stream",
          "name": "stderr",
          "text": [
            "\r 96%|█████████▌| 112/117 [03:04<00:05,  1.16s/it]"
          ]
        },
        {
          "output_type": "stream",
          "name": "stdout",
          "text": [
            "Arquivo940005 já existe!\n"
          ]
        },
        {
          "output_type": "stream",
          "name": "stderr",
          "text": [
            "\r 97%|█████████▋| 113/117 [03:05<00:04,  1.15s/it]"
          ]
        },
        {
          "output_type": "stream",
          "name": "stdout",
          "text": [
            "Arquivo839035 já existe!\n"
          ]
        },
        {
          "output_type": "stream",
          "name": "stderr",
          "text": [
            "\r 97%|█████████▋| 114/117 [03:06<00:03,  1.03s/it]"
          ]
        },
        {
          "output_type": "stream",
          "name": "stdout",
          "text": [
            "Arquivo840000 já existe!\n"
          ]
        },
        {
          "output_type": "stream",
          "name": "stderr",
          "text": [
            "\r 98%|█████████▊| 115/117 [03:08<00:02,  1.21s/it]"
          ]
        },
        {
          "output_type": "stream",
          "name": "stdout",
          "text": [
            "Arquivo840003 já existe!\n"
          ]
        },
        {
          "output_type": "stream",
          "name": "stderr",
          "text": [
            "\r 99%|█████████▉| 116/117 [03:13<00:02,  2.27s/it]"
          ]
        },
        {
          "output_type": "stream",
          "name": "stdout",
          "text": [
            "Arquivo840010 já existe!\n"
          ]
        },
        {
          "output_type": "stream",
          "name": "stderr",
          "text": [
            "100%|██████████| 117/117 [03:14<00:00,  1.66s/it]"
          ]
        },
        {
          "output_type": "stream",
          "name": "stdout",
          "text": [
            "Arquivo839021 já existe!\n",
            "CPU times: user 3min 6s, sys: 1.31 s, total: 3min 8s\n",
            "Wall time: 3min 14s\n"
          ]
        },
        {
          "output_type": "stream",
          "name": "stderr",
          "text": [
            "\n"
          ]
        }
      ]
    }
  ]
}